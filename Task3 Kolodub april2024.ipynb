{
 "cells": [
  {
   "cell_type": "markdown",
   "id": "9d370dde",
   "metadata": {},
   "source": [
    "## Задание 3 Колодуб Елена Сергеевна"
   ]
  },
  {
   "cell_type": "markdown",
   "id": "6b52d03a",
   "metadata": {},
   "source": [
    "Марафонец прошел S км со скоростью V км/с (расстояние и скорость вводятся с клавиатуры). Определить сколько времени он был в пути ч, мин, с?  "
   ]
  },
  {
   "cell_type": "code",
   "execution_count": 8,
   "id": "de2bf7b4",
   "metadata": {
    "scrolled": true
   },
   "outputs": [
    {
     "name": "stdout",
     "output_type": "stream",
     "text": [
      "Введите расстояние, км: 8\n",
      "Введите скорость км/c: 0.003\n",
      "2666.6666666666665\n",
      "0.7407407407407407\n",
      "44.44444444444444\n"
     ]
    }
   ],
   "source": [
    "S = float (input('Введите расстояние, км: '))\n",
    "V = float (input('Введите скорость км/c: '))\n",
    "tc=S/V\n",
    "tч=((S/V)/3600)\n",
    "tмин=((S/V)/60)\n",
    "print(tc)\n",
    "print(tч)\n",
    "print(tмин)"
   ]
  },
  {
   "cell_type": "markdown",
   "id": "92e80a74",
   "metadata": {},
   "source": [
    "Пользователь вводит с клавиатуры два дробных числа, вывести на экран суммы целых и дробных частей  "
   ]
  },
  {
   "cell_type": "code",
   "execution_count": 14,
   "id": "0986d761",
   "metadata": {},
   "outputs": [
    {
     "name": "stdout",
     "output_type": "stream",
     "text": [
      "Введите первое число: 1.546\n",
      "Введите второе число: 45.674\n",
      "(46, 1.22)\n"
     ]
    }
   ],
   "source": [
    "lst=float (input('Введите первое число: ')), float (input('Введите второе число: '))\n",
    "def rounding(lst):\n",
    "    integer = [int(x) for x in lst]\n",
    "    fractional = [x - integer[i] for i, x in enumerate(lst)]\n",
    "    return sum(integer), round(sum(fractional), 2)\n",
    "print(rounding(lst))"
   ]
  },
  {
   "cell_type": "code",
   "execution_count": null,
   "id": "e1a49dda",
   "metadata": {},
   "outputs": [],
   "source": []
  }
 ],
 "metadata": {
  "kernelspec": {
   "display_name": "Python 3 (ipykernel)",
   "language": "python",
   "name": "python3"
  },
  "language_info": {
   "codemirror_mode": {
    "name": "ipython",
    "version": 3
   },
   "file_extension": ".py",
   "mimetype": "text/x-python",
   "name": "python",
   "nbconvert_exporter": "python",
   "pygments_lexer": "ipython3",
   "version": "3.11.4"
  }
 },
 "nbformat": 4,
 "nbformat_minor": 5
}

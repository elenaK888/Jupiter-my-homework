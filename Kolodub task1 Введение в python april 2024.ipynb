{
 "cells": [
  {
   "cell_type": "markdown",
   "id": "9d370dde",
   "metadata": {},
   "source": [
    "Задание 1 Колодуб Елена Сергеевна"
   ]
  },
  {
   "cell_type": "markdown",
   "id": "6b52d03a",
   "metadata": {},
   "source": [
    "Ввести с клавиатуры натуральное число. Вывести на экран младший разряд числа "
   ]
  },
  {
   "cell_type": "code",
   "execution_count": 1,
   "id": "de2bf7b4",
   "metadata": {},
   "outputs": [
    {
     "name": "stdout",
     "output_type": "stream",
     "text": [
      "Введите число: 456\n",
      "В числе 456 находится 3 разрядов.\n"
     ]
    }
   ],
   "source": [
    "n = abs(int(input('Введите число: ')))\n",
    "count = len(str(n))\n",
    "print(f'В числе {n} находится {count} разрядов.')"
   ]
  },
  {
   "cell_type": "markdown",
   "id": "9757f007",
   "metadata": {},
   "source": [
    "С клавиатуры вводится двузначное число, вывести на экран количество десятков в нем"
   ]
  },
  {
   "cell_type": "code",
   "execution_count": 2,
   "id": "a2a1575b",
   "metadata": {},
   "outputs": [
    {
     "name": "stdout",
     "output_type": "stream",
     "text": [
      "88\n",
      "8\n"
     ]
    }
   ],
   "source": [
    "num = int(input()) \n",
    "print(num // 10) "
   ]
  },
  {
   "cell_type": "markdown",
   "id": "12374190",
   "metadata": {},
   "source": [
    "Дано целое число n. Выведете следующее за ним четное число. При решении задачи нельзя использовать if и циклы "
   ]
  },
  {
   "cell_type": "code",
   "execution_count": 5,
   "id": "03c4ae42",
   "metadata": {},
   "outputs": [
    {
     "name": "stdout",
     "output_type": "stream",
     "text": [
      "Ведите целое число n: 56\n",
      "58\n"
     ]
    }
   ],
   "source": [
    "n = int (input(\"Ведите целое число n: \"))\n",
    "print(n + 2 - n % 2)"
   ]
  },
  {
   "cell_type": "markdown",
   "id": "75f51aa6",
   "metadata": {},
   "source": [
    "Написать программу, которая выводит среднее арифметическое значение трех вещественных чисел"
   ]
  },
  {
   "cell_type": "code",
   "execution_count": null,
   "id": "13755623",
   "metadata": {},
   "outputs": [],
   "source": [
    "а = float (input(\"Ведите вещественное число а: \"))\n",
    "b = float (input(\"Ведите вещественное число b: \"))\n",
    "c = float (input(\"Ведите вещественное число c: \"))\n",
    "print ((a+b+c)/3)\n"
   ]
  },
  {
   "cell_type": "code",
   "execution_count": null,
   "id": "00bc237d",
   "metadata": {},
   "outputs": [],
   "source": []
  },
  {
   "cell_type": "code",
   "execution_count": null,
   "id": "cc0ad633",
   "metadata": {},
   "outputs": [],
   "source": []
  }
 ],
 "metadata": {
  "kernelspec": {
   "display_name": "Python 3 (ipykernel)",
   "language": "python",
   "name": "python3"
  },
  "language_info": {
   "codemirror_mode": {
    "name": "ipython",
    "version": 3
   },
   "file_extension": ".py",
   "mimetype": "text/x-python",
   "name": "python",
   "nbconvert_exporter": "python",
   "pygments_lexer": "ipython3",
   "version": "3.11.4"
  }
 },
 "nbformat": 4,
 "nbformat_minor": 5
}

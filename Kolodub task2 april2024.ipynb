{
 "cells": [
  {
   "cell_type": "markdown",
   "id": "9d370dde",
   "metadata": {},
   "source": [
    "## Задание 2 Колодуб Елена Сергеевна"
   ]
  },
  {
   "cell_type": "markdown",
   "id": "6b52d03a",
   "metadata": {},
   "source": [
    "Ввести с клавиатуры два трехзначных числа и поменять у них средние цифры. Например, ввести 357 и 702 получить и вывести числа 307 и 752"
   ]
  },
  {
   "cell_type": "code",
   "execution_count": 1,
   "id": "d1037d5b",
   "metadata": {},
   "outputs": [
    {
     "name": "stdout",
     "output_type": "stream",
     "text": [
      "Введите число num1: 345\n",
      "Введите число num2: 567\n",
      "14\n",
      "16\n"
     ]
    }
   ],
   "source": [
    "n1=int(input(\"Введите трехзначное число num1: \"))\n",
    "n2=int(input(\"Введите трехзначное число num2: \"))\n",
    "\n",
    "a1=n1%10\n",
    "b1=n1//10 %10\n",
    "c1=n1//100%10\n",
    "a2=n2%10\n",
    "b2=n2//10 %10\n",
    "c2=n2//100%10\n",
    "\n",
    "z=a1+b2+c1\n",
    "y=a2+b1+c2\n",
    "\n",
    "print (a1+b2+c1)\n",
    "print (a2+b1+c2)"
   ]
  },
  {
   "cell_type": "markdown",
   "id": "e2394aaa",
   "metadata": {},
   "source": [
    "Вывести четырехзначное число и посчитать сумму первой и третьей, разность второй и четвертой\n"
   ]
  },
  {
   "cell_type": "code",
   "execution_count": 4,
   "id": "ebe710f6",
   "metadata": {},
   "outputs": [
    {
     "name": "stdout",
     "output_type": "stream",
     "text": [
      "Введите четырехзначное число: 8888\n",
      "16\n",
      "0\n"
     ]
    }
   ],
   "source": [
    "num=int(input(\"Введите четырехзначное число: \"))\n",
    "\n",
    "a=num%10\n",
    "b=num//10%10 \n",
    "c=num//100%10 \n",
    "d=num//1000\n",
    "\n",
    "print (a+c)\n",
    "print (b-d)"
   ]
  },
  {
   "cell_type": "markdown",
   "id": "65fe59cd",
   "metadata": {},
   "source": [
    "Ввести трехзначное число и удалить из него среднюю цифру (ввести 357, получить 37 "
   ]
  },
  {
   "cell_type": "code",
   "execution_count": 8,
   "id": "585197e5",
   "metadata": {},
   "outputs": [
    {
     "name": "stdout",
     "output_type": "stream",
     "text": [
      "Введите трехзначное число: 357\n",
      "3 7\n"
     ]
    }
   ],
   "source": [
    "num1=int(input(\"Введите трехзначное число: \"))\n",
    "\n",
    "a=num1%10\n",
    "b=num1//10 %10\n",
    "c=num1//100%10\n",
    "print (c,a)\n"
   ]
  }
 ],
 "metadata": {
  "kernelspec": {
   "display_name": "Python 3 (ipykernel)",
   "language": "python",
   "name": "python3"
  },
  "language_info": {
   "codemirror_mode": {
    "name": "ipython",
    "version": 3
   },
   "file_extension": ".py",
   "mimetype": "text/x-python",
   "name": "python",
   "nbconvert_exporter": "python",
   "pygments_lexer": "ipython3",
   "version": "3.11.4"
  }
 },
 "nbformat": 4,
 "nbformat_minor": 5
}

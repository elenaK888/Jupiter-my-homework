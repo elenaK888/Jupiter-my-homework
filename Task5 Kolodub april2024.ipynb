{
 "cells": [
  {
   "cell_type": "markdown",
   "id": "9d370dde",
   "metadata": {},
   "source": [
    "## Задание 5 Колодуб Елена Сергеевна"
   ]
  },
  {
   "cell_type": "markdown",
   "id": "6b52d03a",
   "metadata": {},
   "source": [
    "Проверить, имеет ли введеное число вещественную часть. Например, числа 3.14 и 2.5 имеют вещественную часть, а числа 5 и 10.0 нет  \n"
   ]
  },
  {
   "cell_type": "code",
   "execution_count": 42,
   "id": "de2bf7b4",
   "metadata": {
    "scrolled": true
   },
   "outputs": [
    {
     "name": "stdout",
     "output_type": "stream",
     "text": [
      "Число не является целым\n"
     ]
    }
   ],
   "source": [
    "n=3.14\n",
    "if isinstance (n,int):\n",
    "    print (\"Число является целым\")\n",
    "else:\n",
    "    print (\"Число не является целым\")"
   ]
  },
  {
   "cell_type": "code",
   "execution_count": 43,
   "id": "be84fc3c",
   "metadata": {},
   "outputs": [
    {
     "name": "stdout",
     "output_type": "stream",
     "text": [
      "Число не является целым\n"
     ]
    }
   ],
   "source": [
    "n=2.5\n",
    "if isinstance (n,int):\n",
    "    print (\"Число является целым\")\n",
    "else:\n",
    "    print (\"Число не является целым\")"
   ]
  },
  {
   "cell_type": "code",
   "execution_count": 44,
   "id": "5d719a5a",
   "metadata": {},
   "outputs": [
    {
     "name": "stdout",
     "output_type": "stream",
     "text": [
      "Число является целым\n"
     ]
    }
   ],
   "source": [
    "n=5\n",
    "if isinstance (n,int):\n",
    "    print (\"Число является целым\")\n",
    "else:\n",
    "    print (\"Число не является целым\")"
   ]
  },
  {
   "cell_type": "code",
   "execution_count": 45,
   "id": "1ad84115",
   "metadata": {},
   "outputs": [
    {
     "name": "stdout",
     "output_type": "stream",
     "text": [
      "Число не является целым\n"
     ]
    }
   ],
   "source": [
    "n=10.0\n",
    "if isinstance (n,int):\n",
    "    print (\"Число является целым\")\n",
    "else:\n",
    "    print (\"Число не является целым\")"
   ]
  },
  {
   "cell_type": "markdown",
   "id": "fd44eeec",
   "metadata": {},
   "source": [
    "Написать программу, которая предлагает пользователю ввести номер дня недели, в ответ показывает название дня (6-суббота), решить с использванием if  "
   ]
  },
  {
   "cell_type": "code",
   "execution_count": 47,
   "id": "73325c1b",
   "metadata": {},
   "outputs": [
    {
     "name": "stdout",
     "output_type": "stream",
     "text": [
      "Введите номер дня недели: 8\n",
      "Дня недели нет\n"
     ]
    }
   ],
   "source": [
    "n=int(input('Введите номер дня недели: '))\n",
    "if n>7 or n<1:\n",
    "    print ('Дня недели нет')\n",
    "elif n==7:\n",
    "    print ('Воскресенье')\n",
    "elif n==6:\n",
    "    print ('Суббота')\n",
    "elif n==5:\n",
    "    print ('Пятница')\n",
    "elif n==4:\n",
    "    print ('Четверг')\n",
    "elif n==3:\n",
    "    print ('Среда')\n",
    "elif n==2:\n",
    "    print ('Вторник')\n",
    "else:\n",
    "    print ('Понедельник')"
   ]
  },
  {
   "cell_type": "code",
   "execution_count": 48,
   "id": "50bb8c44",
   "metadata": {},
   "outputs": [
    {
     "name": "stdout",
     "output_type": "stream",
     "text": [
      "Введите номер дня недели: 1\n",
      "Понедельник\n"
     ]
    }
   ],
   "source": [
    "n=int(input('Введите номер дня недели: '))\n",
    "if n>7 or n<1:\n",
    "    print ('Дня недели нет')\n",
    "elif n==7:\n",
    "    print ('Воскресенье')\n",
    "elif n==6:\n",
    "    print ('Суббота')\n",
    "elif n==5:\n",
    "    print ('Пятница')\n",
    "elif n==4:\n",
    "    print ('Четверг')\n",
    "elif n==3:\n",
    "    print ('Среда')\n",
    "elif n==2:\n",
    "    print ('Вторник')\n",
    "else:\n",
    "    print ('Понедельник')"
   ]
  },
  {
   "cell_type": "markdown",
   "id": "a7304dc2",
   "metadata": {},
   "source": [
    "Ввести с клавиатуры шестизначный номер билета, определить является ли счастливым, совпадают ли суммы трех первых и трех последних цифр"
   ]
  },
  {
   "cell_type": "code",
   "execution_count": 49,
   "id": "83112b9a",
   "metadata": {},
   "outputs": [
    {
     "name": "stdout",
     "output_type": "stream",
     "text": [
      "123987\n",
      "Опять не повезло, не счастливый\n"
     ]
    }
   ],
   "source": [
    "number = int(input()) \n",
    "a1 = number // 100000 \n",
    "a2 = number // 10000 % 10 \n",
    "a3 = number // 1000 % 10 \n",
    "a4 = number // 100 % 10 \n",
    "a5 = number // 10 % 10 \n",
    "a6 = number % 10 \n",
    "\n",
    "if a1 + a2 + a3 == a4 + a5 + a6: \n",
    "    print(\"Счастливый, ура!\") \n",
    "else: \n",
    "    print(\"Опять не повезло, не счастливый\")"
   ]
  },
  {
   "cell_type": "code",
   "execution_count": 50,
   "id": "604dc1a5",
   "metadata": {},
   "outputs": [
    {
     "name": "stdout",
     "output_type": "stream",
     "text": [
      "123321\n",
      "Счастливый, ура!\n"
     ]
    }
   ],
   "source": [
    "number = int(input()) \n",
    "a1 = number // 100000 \n",
    "a2 = number // 10000 % 10 \n",
    "a3 = number // 1000 % 10 \n",
    "a4 = number // 100 % 10 \n",
    "a5 = number // 10 % 10 \n",
    "a6 = number % 10 \n",
    "\n",
    "if a1 + a2 + a3 == a4 + a5 + a6: \n",
    "    print(\"Счастливый, ура!\") \n",
    "else: \n",
    "    print(\"Опять не повезло, не счастливый\")"
   ]
  },
  {
   "cell_type": "code",
   "execution_count": null,
   "id": "2d02742b",
   "metadata": {},
   "outputs": [],
   "source": []
  },
  {
   "cell_type": "code",
   "execution_count": null,
   "id": "24b42a46",
   "metadata": {},
   "outputs": [],
   "source": []
  }
 ],
 "metadata": {
  "kernelspec": {
   "display_name": "Python 3 (ipykernel)",
   "language": "python",
   "name": "python3"
  },
  "language_info": {
   "codemirror_mode": {
    "name": "ipython",
    "version": 3
   },
   "file_extension": ".py",
   "mimetype": "text/x-python",
   "name": "python",
   "nbconvert_exporter": "python",
   "pygments_lexer": "ipython3",
   "version": "3.11.4"
  }
 },
 "nbformat": 4,
 "nbformat_minor": 5
}

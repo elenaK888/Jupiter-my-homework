{
 "cells": [
  {
   "cell_type": "markdown",
   "id": "9d370dde",
   "metadata": {},
   "source": [
    "## Задание 7 Колодуб Елена Сергеевна"
   ]
  },
  {
   "cell_type": "markdown",
   "id": "6b52d03a",
   "metadata": {},
   "source": [
    "Вывести на экран таблицу умножения (Пифагора)"
   ]
  },
  {
   "cell_type": "code",
   "execution_count": 9,
   "id": "de2bf7b4",
   "metadata": {
    "scrolled": true
   },
   "outputs": [
    {
     "name": "stdout",
     "output_type": "stream",
     "text": [
      "1 2 3 4 5 6 7 8 9 \n",
      "2 4 6 8 10 12 14 16 18 \n",
      "3 6 9 12 15 18 21 24 27 \n",
      "4 8 12 16 20 24 28 32 36 \n",
      "5 10 15 20 25 30 35 40 45 \n",
      "6 12 18 24 30 36 42 48 54 \n",
      "7 14 21 28 35 42 49 56 63 \n",
      "8 16 24 32 40 48 56 64 72 \n",
      "9 18 27 36 45 54 63 72 81 \n"
     ]
    }
   ],
   "source": [
    "for i in range(1, 10):\n",
    "    for j in range(1, 10):\n",
    "        print(i * j, end = \" \")\n",
    "    print(\"\")"
   ]
  },
  {
   "cell_type": "code",
   "execution_count": 2,
   "id": "68530357",
   "metadata": {},
   "outputs": [
    {
     "name": "stdout",
     "output_type": "stream",
     "text": [
      "   1   2   3   4   5   6   7   8   9\n",
      "   2   4   6   8  10  12  14  16  18\n",
      "   3   6   9  12  15  18  21  24  27\n",
      "   4   8  12  16  20  24  28  32  36\n",
      "   5  10  15  20  25  30  35  40  45\n",
      "   6  12  18  24  30  36  42  48  54\n",
      "   7  14  21  28  35  42  49  56  63\n",
      "   8  16  24  32  40  48  56  64  72\n",
      "   9  18  27  36  45  54  63  72  81\n"
     ]
    }
   ],
   "source": [
    "for i in range(1, 10):\n",
    "    for j in range(1, 10):\n",
    "        print(\"%4d\" % (i * j), end=\"\")\n",
    "    print()"
   ]
  },
  {
   "cell_type": "code",
   "execution_count": 3,
   "id": "0b4a3c91",
   "metadata": {},
   "outputs": [
    {
     "name": "stdout",
     "output_type": "stream",
     "text": [
      "   1   2   3   4   5   6   7   8   9\n",
      "   2   4   6   8  10  12  14  16  18\n",
      "   3   6   9  12  15  18  21  24  27\n",
      "   4   8  12  16  20  24  28  32  36\n",
      "   5  10  15  20  25  30  35  40  45\n",
      "   6  12  18  24  30  36  42  48  54\n",
      "   7  14  21  28  35  42  49  56  63\n",
      "   8  16  24  32  40  48  56  64  72\n",
      "   9  18  27  36  45  54  63  72  81\n"
     ]
    }
   ],
   "source": [
    "i = 1\n",
    "while i < 10:\n",
    "    j = 1\n",
    "    while j < 10:\n",
    "        print(\"%4d\" % (i * j), end=\"\")\n",
    "        j += 1\n",
    "    print()\n",
    "    i += 1"
   ]
  },
  {
   "cell_type": "markdown",
   "id": "30e4141f",
   "metadata": {},
   "source": [
    "показать на экране прямоугольник размером M на N, состоящий звездочек. Затем сделать тоже самое, но чтобы фигура внутри была пустая, остается только рамка   "
   ]
  },
  {
   "cell_type": "code",
   "execution_count": 4,
   "id": "679f1ee0",
   "metadata": {},
   "outputs": [
    {
     "name": "stdout",
     "output_type": "stream",
     "text": [
      "4\n",
      "5\n",
      "*****\n",
      "*****\n",
      "*****\n",
      "*****\n"
     ]
    }
   ],
   "source": [
    "def print_rectangle(m ,n):\n",
    "    for i in range(m):\n",
    "        for j in range(n):\n",
    "            print('*', end='')\n",
    "        print()\n",
    " \n",
    "m = int(input())\n",
    "n = int(input())\n",
    "print_rectangle(m , n)"
   ]
  },
  {
   "cell_type": "code",
   "execution_count": 5,
   "id": "305fff34",
   "metadata": {},
   "outputs": [
    {
     "name": "stdout",
     "output_type": "stream",
     "text": [
      "Введите ширину: 6\n",
      "Введите высоту: 7\n",
      "* * * * * * \n",
      "*         * \n",
      "*         * \n",
      "*         * \n",
      "*         * \n",
      "*         * \n",
      "* * * * * * \n"
     ]
    }
   ],
   "source": [
    "w = int(input(\"Введите ширину: \"))\n",
    "h = int(input(\"Введите высоту: \"))\n",
    " \n",
    "for i in range(h):\n",
    "    if i == 0 or i == h - 1:\n",
    "        for j in range(w):\n",
    "            print('*', end=' ')\n",
    "    else:\n",
    "        print('*', end=' ')\n",
    "        for j in range(1, w - 1):\n",
    "            print(' ', end=' ')\n",
    "        print('*', end=' ')\n",
    "    print()"
   ]
  },
  {
   "cell_type": "markdown",
   "id": "c4bb43ce",
   "metadata": {},
   "source": [
    "Показать на экране равнобедренный треугольник, пользователь вносит высоту, затем тоже самое но чтобы фигура внутри была пустая, остается только рамка"
   ]
  },
  {
   "cell_type": "code",
   "execution_count": 6,
   "id": "30c95e58",
   "metadata": {},
   "outputs": [
    {
     "name": "stdout",
     "output_type": "stream",
     "text": [
      "N=5\n",
      "    O\n",
      "   OOO\n",
      "  OOOOO\n",
      " OOOOOOO\n",
      "OOOOOOOOO\n"
     ]
    }
   ],
   "source": [
    "n = int(input('N='))\n",
    "for i in range(n):\n",
    "    k1 = n - 1 - i\n",
    "    k2 = n - 1 + i\n",
    "    for j in range(k2 + 1):\n",
    "        print('O' if j >= k1 else ' ', end='')\n",
    "    print()"
   ]
  },
  {
   "cell_type": "markdown",
   "id": "7158dedd",
   "metadata": {},
   "source": [
    "Определить является ли число любой разрядности палиндромом"
   ]
  },
  {
   "cell_type": "code",
   "execution_count": 8,
   "id": "0710f68f",
   "metadata": {},
   "outputs": [
    {
     "name": "stdout",
     "output_type": "stream",
     "text": [
      "Введите число: 123321\n",
      "Число является палиндромом\n"
     ]
    }
   ],
   "source": [
    "number = input(\"Введите число: \") \n",
    "if number == number[::-1]: \n",
    "    print(\"Число является палиндромом\") \n",
    "else: \n",
    "    print(\"Число не является палиндромом\")"
   ]
  },
  {
   "cell_type": "code",
   "execution_count": 9,
   "id": "1b1ffec2",
   "metadata": {},
   "outputs": [
    {
     "name": "stdout",
     "output_type": "stream",
     "text": [
      "Введите число: 123567\n",
      "Число не является палиндромом\n"
     ]
    }
   ],
   "source": [
    "number = input(\"Введите число: \") \n",
    "if number == number[::-1]: \n",
    "    print(\"Число является палиндромом\") \n",
    "else: \n",
    "    print(\"Число не является палиндромом\")"
   ]
  },
  {
   "cell_type": "markdown",
   "id": "df0d19c4",
   "metadata": {},
   "source": [
    "Написать программу, которая выводит на экран все простые числа от 2 до 10 000 000"
   ]
  },
  {
   "cell_type": "code",
   "execution_count": 1,
   "id": "84f46947",
   "metadata": {},
   "outputs": [
    {
     "name": "stdout",
     "output_type": "stream",
     "text": [
      "567\n",
      "2 3 5 7 11 13 17 19 23 29 31 37 41 43 47 53 59 61 67 71 73 79 83 89 97 101 103 107 109 113 127 131 137 139 149 151 157 163 167 173 179 181 191 193 197 199 211 223 227 229 233 239 241 251 257 263 269 271 277 281 283 293 307 311 313 317 331 337 347 349 353 359 367 373 379 383 389 397 401 409 419 421 431 433 439 443 449 457 461 463 467 479 487 491 499 503 509 521 523 541 547 557 563\n"
     ]
    }
   ],
   "source": [
    "def is_prime(n):\n",
    "    if n % 2 == 0:\n",
    "        return n == 2\n",
    "    d = 3\n",
    "    while d * d <= n and n % d != 0:\n",
    "        d += 2\n",
    "    return d * d > n\n",
    "    \n",
    "def vers(n):\n",
    "    limit = int(input())\n",
    "    prime = []\n",
    "    num = 2\n",
    "    while not(num > limit):\n",
    "        if is_prime(num):\n",
    "            prime.append(num)\n",
    "        num += 1\n",
    "    return prime\n",
    "print(*vers(1))"
   ]
  },
  {
   "cell_type": "markdown",
   "id": "7adfd033",
   "metadata": {},
   "source": [
    "Показать на экране все числа Амстронга от 0 до 10000000"
   ]
  },
  {
   "cell_type": "code",
   "execution_count": null,
   "id": "fa0db9c9",
   "metadata": {},
   "outputs": [
    {
     "name": "stdout",
     "output_type": "stream",
     "text": [
      "Введите число\n",
      "10000000\n",
      "1\n",
      "2\n",
      "3\n",
      "4\n",
      "5\n",
      "6\n",
      "7\n",
      "8\n",
      "9\n",
      "153\n",
      "370\n",
      "371\n",
      "407\n",
      "1634\n",
      "8208\n",
      "9474\n",
      "54748\n",
      "92727\n",
      "93084\n",
      "548834\n",
      "1741725\n",
      "4210818\n"
     ]
    }
   ],
   "source": [
    "print('Введите число')\n",
    "N = int(input())\n",
    "for x in range (1, N + 1):\n",
    "    \n",
    "    tmp = 0\n",
    "    for i in str(x):\n",
    "        tmp += int(i) ** len(str(x))\n",
    "        \n",
    "    if tmp == x:\n",
    "        print(x)\n",
    "        \n",
    "print('end')"
   ]
  },
  {
   "cell_type": "markdown",
   "id": "aed58e8b",
   "metadata": {},
   "source": [
    "Написать программу, которая генерирует календарь на любой год, указанный с клавиатуры"
   ]
  },
  {
   "cell_type": "code",
   "execution_count": null,
   "id": "00606b50",
   "metadata": {},
   "outputs": [],
   "source": [
    "import datetime\n",
    "дни = ('Понедельник', 'Вторник', 'Среда', 'Четверг', 'Пятница', 'Суббота', 'Воскресенье')\n",
    "месяцы = ('Январь', 'Февраль', 'Март', 'Апрель', 'Май',\n",
    "          'Июнь', 'Июль', 'Август', 'Сентябрь', 'Октябрь', 'Ноябрь', 'Декабрь')\n",
    "print('Создатель календаря')\n",
    "\n",
    "while True:  \n",
    "    print('Введите год для календаря:')\n",
    "    response = input('> ')\n",
    "    if response.isdecimal() and int(response) > 0:\n",
    "        year = int(response)\n",
    "        break\n",
    "\n",
    "print('Пожалуйста, введите числовой год, например 2024')\n",
    "\n",
    "while True: \n",
    "    print('Введите месяц для календаря, 1-12:')\n",
    "    response = input('> ')\n",
    "\n",
    "    if not response.isdecimal():\n",
    "        print('Пожалуйста, введите числовой месяц, например, 4 для апреля')\n",
    "        continue\n",
    "        \n",
    "month = int(response)\n",
    "    if 1 <= месяцы <= 12:\n",
    "        break\n",
    "print('Введите число от 1 до 12')\n",
    "\n",
    "\n",
    "def getCalendarFor(год, месяц):\n",
    "    calText = ''  \n",
    "    calText += ('  ' * 34) + месяцы[месяц - 1] + '  ' + str(год) + '\\n'\n",
    "    calText += '...Воскресенье.....Понедельник....Вторник...Среда...' \\\n",
    "               'Четверг...Пятница...Суббота...\\n'\n",
    "    weekSeparator = ('+----------' * 7) + '+\\n'\n",
    "    blankRow = ('|          ' * 7) + '|\\n'\n",
    "\n",
    "    currentDate = datetime.date(year, month, 1)\n",
    "\n",
    "    while currentDate.weekday() != 6:\n",
    "        currentDate -= datetime.timedelta(days=1)\n",
    "\n",
    "    while True: \n",
    "        calText += weekSeparator\n",
    "\n",
    "        dayNumberRow = '' \n",
    "        for i in range(7):\n",
    "            dayNumberLabel = str(currentDate.day).rjust(2)\n",
    "            dayNumberRow += '|' + dayNumberLabel + (' ' * 8)\n",
    "            currentDate += datetime.timedelta(days=1)\n",
    "\n",
    "        dayNumberRow += '|\\n'  \n",
    "\n",
    "        calText += dayNumberRow\n",
    "        for i in range(3):\n",
    "            calText += blankRow \n",
    "\n",
    "        if currentDate.month != месяц:\n",
    "            break\n",
    "\n",
    "    calText += weekSeparator\n",
    "    return calText\n",
    "\n",
    "\n",
    "calText = getCalendarFor(год, месяц)\n",
    "print(calText)\n",
    "\n",
    "calendarFilename = 'calendar_{}_{}.txt'.format(год, месяц)\n",
    "with open(calendarFilename, 'w') as fileObj:\n",
    "    fileObj.write(calText)\n",
    "\n",
    "print('Saved to  ' + calendarFilename)"
   ]
  },
  {
   "cell_type": "code",
   "execution_count": null,
   "id": "591a4bd7",
   "metadata": {},
   "outputs": [],
   "source": []
  },
  {
   "cell_type": "code",
   "execution_count": null,
   "id": "ebf96715",
   "metadata": {},
   "outputs": [],
   "source": []
  },
  {
   "cell_type": "code",
   "execution_count": null,
   "id": "99785139",
   "metadata": {},
   "outputs": [],
   "source": []
  },
  {
   "cell_type": "code",
   "execution_count": null,
   "id": "7208fc72",
   "metadata": {},
   "outputs": [],
   "source": []
  }
 ],
 "metadata": {
  "kernelspec": {
   "display_name": "Python 3 (ipykernel)",
   "language": "python",
   "name": "python3"
  },
  "language_info": {
   "codemirror_mode": {
    "name": "ipython",
    "version": 3
   },
   "file_extension": ".py",
   "mimetype": "text/x-python",
   "name": "python",
   "nbconvert_exporter": "python",
   "pygments_lexer": "ipython3",
   "version": "3.11.4"
  }
 },
 "nbformat": 4,
 "nbformat_minor": 5
}

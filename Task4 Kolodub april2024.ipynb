{
 "cells": [
  {
   "cell_type": "markdown",
   "id": "9d370dde",
   "metadata": {},
   "source": [
    "## Задание 4 Колодуб Елена Сергеевна"
   ]
  },
  {
   "cell_type": "markdown",
   "id": "6b52d03a",
   "metadata": {},
   "source": [
    "Вывести число и определить четное оно или нет"
   ]
  },
  {
   "cell_type": "code",
   "execution_count": 21,
   "id": "de2bf7b4",
   "metadata": {
    "scrolled": true
   },
   "outputs": [
    {
     "name": "stdout",
     "output_type": "stream",
     "text": [
      "Введите число: 56\n",
      "Это чётное число\n"
     ]
    }
   ],
   "source": [
    "number = int(input(\"Введите число: \"))\n",
    "if number % 2==0:\n",
    "    print(\"Это чётное число\")\n",
    "else:\n",
    "    print(\"Это НЕчётное число\")"
   ]
  },
  {
   "cell_type": "markdown",
   "id": "249f1a27",
   "metadata": {},
   "source": [
    "Ввести три числа и определить наименьшее среди них"
   ]
  },
  {
   "cell_type": "code",
   "execution_count": 22,
   "id": "706fe047",
   "metadata": {},
   "outputs": [
    {
     "name": "stdout",
     "output_type": "stream",
     "text": [
      "45\n",
      "56\n",
      "1001\n",
      "45\n"
     ]
    }
   ],
   "source": [
    "a=int(input())\n",
    "b=int(input())\n",
    "c=int(input())\n",
    "if a>b>c:\n",
    "   print(c)\n",
    "elif a<b<c:\n",
    "    print(a)\n",
    "else:\n",
    "    print(b)"
   ]
  },
  {
   "cell_type": "markdown",
   "id": "b1fef941",
   "metadata": {},
   "source": [
    "Реализовать калькулятор. Вводятся 2 любых вещественных числа в переменных a и b. Необходимо вывести на экран меню с пунктами\n",
    "1. a+b \n",
    "2. a-b \n",
    "3. a*b\n",
    "4. a/b\n",
    "5. a%b\n",
    "При выборе соотвествующего пункта должна быть проверка на нуль"
   ]
  },
  {
   "cell_type": "code",
   "execution_count": 29,
   "id": "ccd8de19",
   "metadata": {},
   "outputs": [
    {
     "name": "stdout",
     "output_type": "stream",
     "text": [
      "1\n",
      "2\n",
      "+\n",
      "3\n"
     ]
    }
   ],
   "source": [
    "x = int(input()) \n",
    "y = int(input()) \n",
    "znak = input() \n",
    "if(znak == \"+\"): \n",
    "    print(x+y) \n",
    "elif(znak == \"-\"): \n",
    "    print(x-y) \n",
    "elif(znak == \"*\"): \n",
    "    print(x*y) \n",
    "elif(znak == \"%\"): \n",
    "    print(x*y) \n",
    "elif(znak == \"/\" and y != 0): \n",
    "    print(x/y) \n",
    "elif(znak == \"**\"): \n",
    "    print(x**y) \n",
    "else: \n",
    "    print(\"Ошибка\")"
   ]
  },
  {
   "cell_type": "code",
   "execution_count": null,
   "id": "871736b0",
   "metadata": {},
   "outputs": [],
   "source": []
  },
  {
   "cell_type": "code",
   "execution_count": null,
   "id": "ea3d6c60",
   "metadata": {},
   "outputs": [],
   "source": []
  }
 ],
 "metadata": {
  "kernelspec": {
   "display_name": "Python 3 (ipykernel)",
   "language": "python",
   "name": "python3"
  },
  "language_info": {
   "codemirror_mode": {
    "name": "ipython",
    "version": 3
   },
   "file_extension": ".py",
   "mimetype": "text/x-python",
   "name": "python",
   "nbconvert_exporter": "python",
   "pygments_lexer": "ipython3",
   "version": "3.11.4"
  }
 },
 "nbformat": 4,
 "nbformat_minor": 5
}

{
 "cells": [
  {
   "cell_type": "markdown",
   "id": "9d370dde",
   "metadata": {},
   "source": [
    "## Задание 8 Колодуб Елена Сергеевна"
   ]
  },
  {
   "cell_type": "markdown",
   "id": "6b52d03a",
   "metadata": {},
   "source": [
    "Выведите на экран сумму четных элементов массива. Если в массиве нет четных элементов, выведите \"No\" "
   ]
  },
  {
   "cell_type": "code",
   "execution_count": 8,
   "id": "de2bf7b4",
   "metadata": {
    "scrolled": true
   },
   "outputs": [
    {
     "name": "stdout",
     "output_type": "stream",
     "text": [
      "количество элементов: 6\n",
      ">: 6\n",
      ">: 8\n",
      ">: 4\n",
      ">: 7\n",
      ">: 3\n",
      ">: 7\n",
      "18\n",
      "[6, 8, 4, 7, 3, 7]\n",
      "NO\n"
     ]
    }
   ],
   "source": [
    "def bSort(array):\n",
    "    length = len(array)\n",
    "    for i in range(length):\n",
    "        for j in range(0, length-i-1):\n",
    "            if array[j] > array[j+1]:\n",
    "                temp = array[j]\n",
    "                array[j] = array[j+1]\n",
    "                array[j+1] = temp\n",
    "                \n",
    "def nei_positive(mass):\n",
    "    for i in range(len(mass) -1):\n",
    "        if mass[i] > 0 and mass[i] == mass[i + 1]:\n",
    "            return 'YES'\n",
    "    return 'NO'\n",
    "                \n",
    "mass = [int(input('>: ')) for _ in range (int(input('количество элементов: ')))]\n",
    "print(sum(filter(lambda x : not x % 2, mass)))\n",
    "print(mass)\n",
    "print(nei_positive(mass))"
   ]
  },
  {
   "cell_type": "markdown",
   "id": "9436c1ac",
   "metadata": {},
   "source": [
    "Вывести на экран номер элемента массива, который равен X. Если таких элементов несколько, выведите меньший номер. Выводить на экран номер элемента, который считается от 1. Если такого элемента нет, выведете No"
   ]
  },
  {
   "cell_type": "code",
   "execution_count": 25,
   "id": "874b1067",
   "metadata": {},
   "outputs": [
    {
     "ename": "IndentationError",
     "evalue": "unindent does not match any outer indentation level (<tokenize>, line 12)",
     "output_type": "error",
     "traceback": [
      "\u001b[1;36m  File \u001b[1;32m<tokenize>:12\u001b[1;36m\u001b[0m\n\u001b[1;33m    print(No)\u001b[0m\n\u001b[1;37m    ^\u001b[0m\n\u001b[1;31mIndentationError\u001b[0m\u001b[1;31m:\u001b[0m unindent does not match any outer indentation level\n"
     ]
    }
   ],
   "source": [
    "N = int(input(\"N= \")) \n",
    "string = input(\"Массив: \") \n",
    "X = int(input(\"X= \")) \n",
    "lst = string.split() \n",
    "A = list(map(int, lst)) \n",
    "finded = False \n",
    "for i in range(N): \n",
    "     if A[i] == X: \n",
    "            print(i+1,end=\" \")\n",
    "            finded = True \n",
    "            if not finded: \n",
    "    print(No)"
   ]
  },
  {
   "cell_type": "code",
   "execution_count": null,
   "id": "fa42bb68",
   "metadata": {},
   "outputs": [],
   "source": []
  },
  {
   "cell_type": "code",
   "execution_count": null,
   "id": "25c7f84d",
   "metadata": {},
   "outputs": [],
   "source": []
  }
 ],
 "metadata": {
  "kernelspec": {
   "display_name": "Python 3 (ipykernel)",
   "language": "python",
   "name": "python3"
  },
  "language_info": {
   "codemirror_mode": {
    "name": "ipython",
    "version": 3
   },
   "file_extension": ".py",
   "mimetype": "text/x-python",
   "name": "python",
   "nbconvert_exporter": "python",
   "pygments_lexer": "ipython3",
   "version": "3.11.4"
  }
 },
 "nbformat": 4,
 "nbformat_minor": 5
}

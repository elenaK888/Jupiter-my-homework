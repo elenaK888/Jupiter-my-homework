{
 "cells": [
  {
   "cell_type": "markdown",
   "id": "9d370dde",
   "metadata": {},
   "source": [
    "## Задание 6 Колодуб Елена Сергеевна"
   ]
  },
  {
   "cell_type": "markdown",
   "id": "6b52d03a",
   "metadata": {},
   "source": [
    "Вывести горизонтальную линию из звездочек, кол-во задает пользователь"
   ]
  },
  {
   "cell_type": "code",
   "execution_count": 69,
   "id": "de2bf7b4",
   "metadata": {
    "scrolled": true
   },
   "outputs": [
    {
     "name": "stdout",
     "output_type": "stream",
     "text": [
      "10\n",
      "**********\n"
     ]
    }
   ],
   "source": [
    "numbers = input().split() \n",
    "for i in numbers: \n",
    "    print('*' * int(i))"
   ]
  },
  {
   "cell_type": "markdown",
   "id": "107669c4",
   "metadata": {},
   "source": [
    "С клавиатуры вводится число любой разрядности, нужно перевернуть это число в обратном порядке"
   ]
  },
  {
   "cell_type": "code",
   "execution_count": 70,
   "id": "b261f28f",
   "metadata": {},
   "outputs": [
    {
     "name": "stdout",
     "output_type": "stream",
     "text": [
      "Введите целое число: 34657878\n",
      "Обратное число: 87875643\n"
     ]
    }
   ],
   "source": [
    "n1 = int(input(\"Введите целое число: \"))\n",
    "\n",
    "digit = n1 % 10\n",
    "n2 = digit\n",
    "n1 = n1 // 10\n",
    "while n1 > 0:\n",
    "    digit = n1 % 10\n",
    "    n1 = n1 // 10\n",
    "    n2 = n2 * 10\n",
    "    n2 = n2 + digit\n",
    "print('Обратное число:', n2)"
   ]
  },
  {
   "cell_type": "markdown",
   "id": "b797030e",
   "metadata": {},
   "source": [
    "Написать игру \"Угадай число\". Пользователь мысленно загадывает число от 0 до 1000, компьютер отгадывает его за минимальное количество попыток "
   ]
  },
  {
   "cell_type": "code",
   "execution_count": 71,
   "id": "456fc0d9",
   "metadata": {},
   "outputs": [
    {
     "name": "stdout",
     "output_type": "stream",
     "text": [
      "\tот\n",
      "1\n",
      "\tдо\n",
      "1000\n",
      "\tпопытки\n",
      "1\n",
      "50\n",
      "\tвы проиграли\n",
      "\n",
      "\tещё раз?\n",
      "1\n",
      "\tпока\n",
      "\n"
     ]
    }
   ],
   "source": [
    "from random import randint as rn\n",
    "def game():\n",
    "    n=rn(int(input('\\tот\\n')),int(input('\\tдо\\n')))\n",
    "    p=int(input('\\tпопытки\\n'))\n",
    "    for i in range(p):\n",
    "        if int(input())==n:\n",
    "            print('\\tвы выиграли\\n')\n",
    "            return\n",
    "    print('\\tвы проиграли\\n')\n",
    "game()\n",
    "f=input('\\tещё раз?\\n')\n",
    "if f=='да':\n",
    "    game()\n",
    "else:\n",
    "    print('\\tпока\\n')"
   ]
  },
  {
   "cell_type": "code",
   "execution_count": null,
   "id": "697f9e25",
   "metadata": {},
   "outputs": [
    {
     "name": "stdout",
     "output_type": "stream",
     "text": [
      "Минимальное число для угадывания: 2\n",
      "Максимальное число для угадывания: 5\n",
      "Количество попыток: 3\n",
      "Я загадал число от 2 до 5, попробуй его угадать!\n",
      "3\n",
      "Поздравляю! Ты отгадал число с 1 попытки\n"
     ]
    }
   ],
   "source": [
    "import random\n",
    "while True:\n",
    "    Min = int(input(\"Минимальное число для угадывания: \"))\n",
    "    Max = int(input(\"Максимальное число для угадывания: \"))\n",
    "    trying = int(input(\"Количество попыток: \"))\n",
    "    num = random.randint(Min,Max)\n",
    "    y = 1\n",
    "    x = int(input(\"Я загадал число от \" + str(Min) + \" до \"+ str(Max) + \", попробуй его угадать!\\n\"))\n",
    "    while y < trying and x!=num:\n",
    "        if x == num:\n",
    "            break\n",
    "        elif x>num:\n",
    "            print(\"Извини, но твоё число немного больше нужного...\")\n",
    "            x = int(input(\"Попробуешь Ещё раз?\\n\"))\n",
    "            y+=1\n",
    "        elif x<num:\n",
    "            print(\"Нет, не угадал, твоё число поменьше моего будет))\")\n",
    "            x = int(input(\"Попробуешь Ещё раз?\\n\"))\n",
    "            y+=1\n",
    "    if x!=num:\n",
    "        print(\"Ты не смог угадать число\", num,\"за \" + trying  +\" попыток\")\n",
    "    else:\n",
    "        print(\"Поздравляю! Ты отгадал число с\", y,\"попытки\")\n",
    "    import os\n",
    "    def commander(cmd):\n",
    "        print(cmd)\n",
    "        os.system('cls')\n",
    "    if __name__ == '__main__':\n",
    "        cmd = input()\n",
    "        commander(cmd)"
   ]
  },
  {
   "cell_type": "code",
   "execution_count": null,
   "id": "e8e8c3f2",
   "metadata": {},
   "outputs": [],
   "source": []
  }
 ],
 "metadata": {
  "kernelspec": {
   "display_name": "Python 3 (ipykernel)",
   "language": "python",
   "name": "python3"
  },
  "language_info": {
   "codemirror_mode": {
    "name": "ipython",
    "version": 3
   },
   "file_extension": ".py",
   "mimetype": "text/x-python",
   "name": "python",
   "nbconvert_exporter": "python",
   "pygments_lexer": "ipython3",
   "version": "3.11.4"
  }
 },
 "nbformat": 4,
 "nbformat_minor": 5
}
